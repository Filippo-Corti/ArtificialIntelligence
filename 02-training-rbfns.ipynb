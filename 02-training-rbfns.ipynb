{
 "cells": [
  {
   "cell_type": "code",
   "id": "initial_id",
   "metadata": {
    "collapsed": true,
    "ExecuteTime": {
     "end_time": "2025-10-07T09:18:04.255952Z",
     "start_time": "2025-10-07T09:17:59.945225Z"
    }
   },
   "source": [
    "import sys\n",
    "\n",
    "sys.path.append(\"..\")\n",
    "import torch\n",
    "import torch.nn as nn\n",
    "import numpy as np\n",
    "import matplotlib.pyplot as plt\n",
    "import matplotlib.cm as cm\n",
    "from mpl_toolkits.mplot3d import Axes3D"
   ],
   "outputs": [],
   "execution_count": 1
  },
  {
   "metadata": {
    "ExecuteTime": {
     "end_time": "2025-10-07T09:20:12.264995Z",
     "start_time": "2025-10-07T09:20:12.259482Z"
    }
   },
   "cell_type": "code",
   "source": [
    "# Idea: we need a specific model --> We define a nn.Module\n",
    "\n",
    "# TODO ..."
   ],
   "id": "2d1795a866a84d6c",
   "outputs": [],
   "execution_count": 2
  },
  {
   "metadata": {},
   "cell_type": "code",
   "outputs": [],
   "execution_count": null,
   "source": [
    "rbf = RBFLayer(\n",
    "    in_features_dim=2,\n",
    "    num_kernels=3,\n",
    "    out_features_dim=3,\n",
    "    radial_function=rbf_gaussian,\n",
    "    norm_function=euclidean_norm,\n",
    "    normalization=True\n",
    ")"
   ],
   "id": "d928a676ebbb7a5e"
  }
 ],
 "metadata": {
  "kernelspec": {
   "display_name": "Python 3",
   "language": "python",
   "name": "python3"
  },
  "language_info": {
   "codemirror_mode": {
    "name": "ipython",
    "version": 2
   },
   "file_extension": ".py",
   "mimetype": "text/x-python",
   "name": "python",
   "nbconvert_exporter": "python",
   "pygments_lexer": "ipython2",
   "version": "2.7.6"
  }
 },
 "nbformat": 4,
 "nbformat_minor": 5
}
