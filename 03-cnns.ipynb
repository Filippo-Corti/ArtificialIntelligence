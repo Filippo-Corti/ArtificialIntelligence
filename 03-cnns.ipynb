{
 "cells": [
  {
   "metadata": {},
   "cell_type": "markdown",
   "source": [
    "# **Part 1: Handwritten digit recognition using MNIST and Convolutional Neural Networks (CNNs)**\n",
    "\n",
    "In these exercises, we will use PyTorch to implement Deep Learning methods that perform pattern recognition. In particular, we will consider a Convolutional Neural Network (CNN) to recognize MNIST's handwritten digits in this article.\n",
    "\n",
    "We will see three ways of using CNNs to classify MNIST data:\n",
    "\n",
    "\n",
    "1.   Training a custom model for feature extraction and classification.\n",
    "2.   Pretrained CNN as a feature extractor, combined with a shallow classifier.\n",
    "3.   Fine tuning CNN to perform both feature extraction and classification.\n"
   ],
   "id": "335b4dcc8403dd57"
  },
  {
   "metadata": {
    "collapsed": true,
    "ExecuteTime": {
     "end_time": "2025-10-08T11:46:01.760900Z",
     "start_time": "2025-10-08T11:45:58.419384Z"
    }
   },
   "cell_type": "code",
   "source": [
    "from torchvision import models\n",
    "from torchvision import transforms\n",
    "from torchvision import datasets\n",
    "from torch.autograd import Variable\n",
    "from sklearn.metrics import confusion_matrix\n",
    "from datetime import datetime\n",
    "import torch\n",
    "import torch.nn as nn\n",
    "import torch.optim as optim\n",
    "import numpy as np\n",
    "import os\n",
    "import pickle\n",
    "import matplotlib.pyplot as plt\n",
    "import time\n",
    "import copy"
   ],
   "id": "5694567660471d84",
   "outputs": [],
   "execution_count": 2
  },
  {
   "metadata": {
    "ExecuteTime": {
     "end_time": "2025-10-08T11:54:21.604162Z",
     "start_time": "2025-10-08T11:54:21.598445Z"
    }
   },
   "cell_type": "code",
   "source": [
    "batch_sizeP = 300 # Each Batch is 300\n",
    "numWorkersP = 2 # We use 2 Threads\n",
    "numClassesMNIST = 10 # MNIST classes are \"0\" through \"9\""
   ],
   "id": "2b91e5bd26ed1467",
   "outputs": [],
   "execution_count": 16
  },
  {
   "metadata": {
    "ExecuteTime": {
     "end_time": "2025-10-08T11:46:19.576039Z",
     "start_time": "2025-10-08T11:46:19.565324Z"
    }
   },
   "cell_type": "code",
   "source": [
    "# Try to use CUDA\n",
    "cuda = True if torch.cuda.is_available() else False\n",
    "Tensor = torch.cuda.FloatTensor if cuda else torch.FloatTensor\n",
    "if cuda:\n",
    "    torch.cuda.empty_cache()\n",
    "print(\"Cuda is {0}\".format(cuda))"
   ],
   "id": "92e2a7155919a4ec",
   "outputs": [
    {
     "name": "stdout",
     "output_type": "stream",
     "text": [
      "Cuda is False\n"
     ]
    }
   ],
   "execution_count": 4
  },
  {
   "metadata": {
    "ExecuteTime": {
     "end_time": "2025-10-08T11:47:56.039047Z",
     "start_time": "2025-10-08T11:47:56.034044Z"
    }
   },
   "cell_type": "code",
   "source": [
    "# Build a Transformer to Normalize Data\n",
    "# Mean and Stddev for MNIST Dataset are known (0.13, 0.31)\n",
    "\n",
    "transform = transforms.Compose([\n",
    "    transforms.ToTensor(),\n",
    "    transforms.Normalize((0.1307,), (0.3081,))\n",
    "])"
   ],
   "id": "b17fb55adb5ea98c",
   "outputs": [],
   "execution_count": 5
  },
  {
   "metadata": {
    "ExecuteTime": {
     "end_time": "2025-10-08T11:51:00.048408Z",
     "start_time": "2025-10-08T11:50:59.894592Z"
    }
   },
   "cell_type": "code",
   "source": [
    "# Download the Dataset (directly via datasets) and build DataLoaders\n",
    "\n",
    "train_folder = datasets.MNIST('./files/', train=True, download=True, transform=transform)\n",
    "train_loader = torch.utils.data.DataLoader(train_folder, batch_size=batch_sizeP, num_workers=numWorkersP, shuffle=True)\n",
    "\n",
    "test_folder = datasets.MNIST('./files/', train=False, download=True, transform=transform)\n",
    "test_loader = torch.utils.data.DataLoader(test_folder, batch_size=batch_sizeP, num_workers=numWorkersP, shuffle=True)"
   ],
   "id": "82df835418fb7537",
   "outputs": [],
   "execution_count": 7
  },
  {
   "metadata": {
    "ExecuteTime": {
     "end_time": "2025-10-08T11:55:03.097473Z",
     "start_time": "2025-10-08T11:55:03.081586Z"
    }
   },
   "cell_type": "code",
   "source": [
    "dataset_sizes = dict(\n",
    "    train=len(train_folder),\n",
    "    test=len(test_folder)\n",
    ")\n",
    "\n",
    "numBatches = dict(\n",
    "    train=np.round(dataset_sizes['train'] / batch_sizeP),\n",
    "    test=np.round(dataset_sizes['test'] / batch_sizeP)\n",
    ")\n",
    "\n",
    "dataset_sizes, numBatches"
   ],
   "id": "b6554ecf4766c23",
   "outputs": [
    {
     "data": {
      "text/plain": [
       "({'train': 60000, 'test': 10000},\n",
       " {'train': np.float64(200.0), 'test': np.float64(33.0)})"
      ]
     },
     "execution_count": 20,
     "metadata": {},
     "output_type": "execute_result"
    }
   ],
   "execution_count": 20
  },
  {
   "metadata": {
    "ExecuteTime": {
     "end_time": "2025-10-08T11:57:50.622923Z",
     "start_time": "2025-10-08T11:57:50.612499Z"
    }
   },
   "cell_type": "code",
   "source": [
    "# Simple custom Module\n",
    "\n",
    "class AngeloNet(nn.Module):\n",
    "    def __init__(self, numClasses):\n",
    "        super(AngeloNet, self).__init__()\n",
    "\n",
    "        self.flat = nn.Flatten()\n",
    "\n",
    "        self.features = nn.Sequential(\n",
    "            nn.Conv2d(1, 10, kernel_size=5), # Convolutional Layer with 1 IN and 10 OUT. Filter has size 5x5\n",
    "            nn.MaxPool2d(kernel_size=2, stride=2, padding=0, dilation=1, ceil_mode=False),\n",
    "            nn.ReLU(inplace=True),\n",
    "            nn.Conv2d(10, 20, kernel_size=5),\n",
    "            nn.Dropout(),\n",
    "            nn.MaxPool2d(kernel_size=2, stride=2, padding=0, dilation=1, ceil_mode=False),\n",
    "            nn.ReLU(inplace=True)\n",
    "        )\n",
    "\n",
    "        self.classifier = nn.Sequential( # This is the Classifier (MLP-like)\n",
    "            nn.Linear(320, 50),\n",
    "            nn.ReLU(inplace=True),\n",
    "            nn.Dropout(),\n",
    "            nn.Linear(50, numClasses)\n",
    "        )\n",
    "\n",
    "    def forward(self, x): # Defines order of layers (Features --> Classifier)\n",
    "        x = self.features(x)\n",
    "        # x = x.view(-1, 320)\n",
    "        x = self.flat(x)\n",
    "        x = self.classifier(x)\n",
    "        return x"
   ],
   "id": "e21e957b8b8558f6",
   "outputs": [],
   "execution_count": 21
  },
  {
   "metadata": {
    "ExecuteTime": {
     "end_time": "2025-10-08T12:09:10.359265Z",
     "start_time": "2025-10-08T12:09:10.347398Z"
    }
   },
   "cell_type": "code",
   "source": [
    "currentModel = AngeloNet(numClassesMNIST)\n",
    "if cuda:\n",
    "  currentModel.to('cuda')\n",
    "\n",
    "lr = 0.01\n",
    "momentum = 0.5 # Needed for the optimizer\n",
    "num_epochs = 5\n",
    "\n",
    "criterion = nn.CrossEntropyLoss() # Loss Function\n",
    "optimizer_ft = optim.SGD( # Stochastic Gradient Descent\n",
    "    currentModel.parameters(),\n",
    "    lr=lr,\n",
    "    momentum=momentum\n",
    ")"
   ],
   "id": "aa89a078cf235bb5",
   "outputs": [],
   "execution_count": 29
  },
  {
   "metadata": {
    "ExecuteTime": {
     "end_time": "2025-10-08T12:09:10.872057Z",
     "start_time": "2025-10-08T12:09:10.859410Z"
    }
   },
   "cell_type": "code",
   "source": [
    "def train_model(model, criterion, optimizer, num_epochs, dataset_sizes, dataloaders, batch_sizeP, cuda):\n",
    "\n",
    "    since = time.time()\n",
    "    best_model_wts = copy.deepcopy(model.state_dict())\n",
    "    best_acc = 0.0\n",
    "\n",
    "    numBatches = np.round(dataset_sizes['train'] / batch_sizeP)\n",
    "\n",
    "    model.train()  # Set model to training mode (e.g. for Dropout)\n",
    "\n",
    "    for epoch in range(num_epochs):\n",
    "\n",
    "        print('Epoch {}/{}'.format(epoch+1, num_epochs))\n",
    "\n",
    "        running_loss = 0.0\n",
    "        running_corrects = 0\n",
    "\n",
    "        # Iterate over data using the DataLoader\n",
    "        for batch_idx, (inputs, labels) in enumerate(dataloaders):\n",
    "\n",
    "            if cuda:\n",
    "                inputs = inputs.to('cuda')\n",
    "                labels = labels.to('cuda')\n",
    "\n",
    "            if batch_idx % 10 == 0:\n",
    "                pass\n",
    "\n",
    "            optimizer.zero_grad()  # zero the parameter gradients\n",
    "\n",
    "            outputs = model(inputs) # calls forward\n",
    "            _, preds = torch.max(outputs, 1) # Returns the index of the label which has the maximum value\n",
    "            loss = criterion(outputs, labels) # computes error\n",
    "\n",
    "            # Back-propagation\n",
    "            loss.backward()\n",
    "            optimizer.step()\n",
    "\n",
    "            # Training stats\n",
    "            running_loss += loss.item() * inputs.size(0)\n",
    "            running_corrects += torch.sum(preds == labels.data)\n",
    "\n",
    "        epoch_loss = running_loss / dataset_sizes['train']\n",
    "        epoch_acc = running_corrects.double() / dataset_sizes['train']\n",
    "        print('\\t{} Loss: {:.4f} Acc: {:.4f}'.format(\n",
    "            'train', epoch_loss, epoch_acc))\n",
    "\n",
    "        # Deep Copy the Model (to keep the best model aside)\n",
    "        if epoch_acc > best_acc:\n",
    "            best_acc = epoch_acc\n",
    "            best_model_wts = copy.deepcopy(model.state_dict())\n",
    "\n",
    "    print()\n",
    "    time_elapsed = time.time() - since\n",
    "    print('Training complete in {:.0f}m {:.0f}s'.format(\n",
    "        time_elapsed // 60, time_elapsed % 60))\n",
    "\n",
    "    print('Best acc: {:4f}'.format(best_acc))\n",
    "    model.load_state_dict(best_model_wts)\n",
    "\n",
    "    return model"
   ],
   "id": "3fa92884fbc097fa",
   "outputs": [],
   "execution_count": 30
  },
  {
   "metadata": {
    "ExecuteTime": {
     "end_time": "2025-10-08T12:10:28.066236Z",
     "start_time": "2025-10-08T12:09:11.510868Z"
    }
   },
   "cell_type": "code",
   "source": [
    "currentModel = train_model(\n",
    "    currentModel,\n",
    "    criterion,\n",
    "    optimizer_ft,\n",
    "    num_epochs,\n",
    "    dataset_sizes,\n",
    "    train_loader,\n",
    "    batch_sizeP,\n",
    "    cuda\n",
    ")"
   ],
   "id": "341bf0207e0efcd6",
   "outputs": [
    {
     "name": "stdout",
     "output_type": "stream",
     "text": [
      "Epoch 1/5\n",
      "\ttrain Loss: 1.2843 Acc: 0.5687\n",
      "Epoch 2/5\n",
      "\ttrain Loss: 0.5140 Acc: 0.8397\n",
      "Epoch 3/5\n",
      "\ttrain Loss: 0.3894 Acc: 0.8796\n",
      "Epoch 4/5\n",
      "\ttrain Loss: 0.3327 Acc: 0.8985\n",
      "Epoch 5/5\n",
      "\ttrain Loss: 0.2967 Acc: 0.9105\n",
      "\n",
      "Training complete in 1m 17s\n",
      "Best acc: 0.910550\n"
     ]
    }
   ],
   "execution_count": 31
  },
  {
   "metadata": {
    "ExecuteTime": {
     "end_time": "2025-10-08T12:10:58.503441Z",
     "start_time": "2025-10-08T12:10:58.492087Z"
    }
   },
   "cell_type": "code",
   "source": [
    "# Now we can show what we predicted\n",
    "\n",
    "def imshow(inp, title=None):\n",
    "    \"\"\"Imshow for Tensor.\"\"\"\n",
    "    inp = inp.numpy().transpose((1, 2, 0))\n",
    "    mean = np.array([0.485, 0.456, 0.406])\n",
    "    std = np.array([0.229, 0.224, 0.225])\n",
    "    inp = std * inp + mean\n",
    "    inp = np.clip(inp, 0, 1)\n",
    "    plt.imshow(inp)\n",
    "    if title is not None:\n",
    "        plt.title(title)\n",
    "    plt.pause(0.001)  # pause a bit so that plots are updated\n",
    "\n",
    "def visualize_model(model, dataloaders, cuda, class_names, num_images=6):\n",
    "\n",
    "    was_training = model.training\n",
    "    model.eval()\n",
    "\n",
    "    images_so_far = 0\n",
    "\n",
    "    fig = plt.figure()\n",
    "\n",
    "    with torch.no_grad():\n",
    "\n",
    "        for i, (inputs, labels) in enumerate(dataloaders):\n",
    "\n",
    "            if cuda:\n",
    "                inputs = inputs.to('cuda')\n",
    "                labels = labels.to('cuda')\n",
    "\n",
    "            outputs = model(inputs)\n",
    "            _, preds = torch.max(outputs, 1)\n",
    "\n",
    "            for j in range(inputs.size()[0]):\n",
    "\n",
    "                images_so_far += 1\n",
    "                ax = plt.subplot(num_images//2, 2, images_so_far)\n",
    "                ax.axis('off')\n",
    "                ax.set_title('predicted: {}'.format(class_names[preds[j]]))\n",
    "                imshow(inputs.cpu().data[j])\n",
    "\n",
    "                if images_so_far == num_images:\n",
    "                    model.train(mode=was_training)\n",
    "                    return\n",
    "\n",
    "        model.train(mode=was_training)"
   ],
   "id": "6f7b83c48094fb76",
   "outputs": [],
   "execution_count": 32
  },
  {
   "metadata": {
    "ExecuteTime": {
     "end_time": "2025-10-08T12:13:18.852341Z",
     "start_time": "2025-10-08T12:13:18.267970Z"
    }
   },
   "cell_type": "code",
   "source": [
    "# visualize some outputs\n",
    "visualize_model(currentModel, test_loader, cuda, train_folder.classes, num_images=6)"
   ],
   "id": "45105239eb7a2e11",
   "outputs": [
    {
     "data": {
      "text/plain": [
       "<Figure size 640x480 with 1 Axes>"
      ],
      "image/png": "[encoded data removed]"
     },
     "metadata": {},
     "output_type": "display_data",
     "jetTransient": {
      "display_id": null
     }
    },
    {
     "data": {
      "text/plain": [
       "<Figure size 640x480 with 1 Axes>"
      ],
      "image/png": "[encoded data removed]"
     },
     "metadata": {},
     "output_type": "display_data",
     "jetTransient": {
      "display_id": null
     }
    },
    {
     "data": {
      "text/plain": [
       "<Figure size 640x480 with 1 Axes>"
      ],
      "image/png": "[encoded data removed]"
     },
     "metadata": {},
     "output_type": "display_data",
     "jetTransient": {
      "display_id": null
     }
    },
    {
     "data": {
      "text/plain": [
       "<Figure size 640x480 with 1 Axes>"
      ],
      "image/png": "[encoded data removed]"
     },
     "metadata": {},
     "output_type": "display_data",
     "jetTransient": {
      "display_id": null
     }
    },
    {
     "data": {
      "text/plain": [
       "<Figure size 640x480 with 1 Axes>"
      ],
      "image/png": "[encoded data removed]"
     },
     "metadata": {},
     "output_type": "display_data",
     "jetTransient": {
      "display_id": null
     }
    },
    {
     "data": {
      "text/plain": [
       "<Figure size 640x480 with 1 Axes>"
      ],
      "image/png": "[encoded data removed]"
     },
     "metadata": {},
     "output_type": "display_data",
     "jetTransient": {
      "display_id": null
     }
    }
   ],
   "execution_count": 36
  },
  {
   "metadata": {
    "ExecuteTime": {
     "end_time": "2025-10-08T12:11:35.934303Z",
     "start_time": "2025-10-08T12:11:35.928049Z"
    }
   },
   "cell_type": "code",
   "source": [
    "2def accuracy(confusion_matrix):\n",
    "    diagonal_sum = confusion_matrix.trace()\n",
    "    sum_of_all_elements = confusion_matrix.sum()\n",
    "    return diagonal_sum / sum_of_all_elements"
   ],
   "id": "5703bcf743647972",
   "outputs": [],
   "execution_count": 34
  },
  {
   "metadata": {
    "ExecuteTime": {
     "end_time": "2025-10-08T12:15:52.191926Z",
     "start_time": "2025-10-08T12:15:49.802632Z"
    }
   },
   "cell_type": "code",
   "source": [
    "# Eval mode\n",
    "currentModel.eval()\n",
    "\n",
    "# init\n",
    "predALL_test = torch.empty(dataset_sizes['test'])\n",
    "labelsALL_test = torch.empty(dataset_sizes['test'])\n",
    "numBatches = np.round(dataset_sizes['test'] / batch_sizeP)\n",
    "\n",
    "with torch.no_grad():\n",
    "        for batch_num, (x, y) in enumerate(test_loader):\n",
    "\n",
    "            # display\n",
    "            if batch_num % 10 == 0:\n",
    "                print(\"Batch n. {0} / {1}\".format(batch_num, int(numBatches)))\n",
    "\n",
    "            # extract features\n",
    "            if cuda:\n",
    "                x = x.to('cuda')\n",
    "                y = y.to('cuda')\n",
    "\n",
    "            # stack\n",
    "            indStart = batch_num * batch_sizeP\n",
    "            indEnd = indStart + batch_sizeP\n",
    "\n",
    "            # predict\n",
    "            outputs = currentModel(x)\n",
    "            _, preds = torch.max(outputs, 1)\n",
    "\n",
    "            predALL_test[indStart:indEnd] = preds\n",
    "            labelsALL_test[indStart:indEnd] = y\n",
    "\n",
    "# confusion matrix\n",
    "CM = confusion_matrix(labelsALL_test, predALL_test)\n",
    "accuracyResult = accuracy(CM)\n",
    "\n",
    "print(\"Accuracy: {0:.2f}%\".format(accuracyResult * 100))\n",
    "print(\"Confusion Matrix:\")\n",
    "CM"
   ],
   "id": "62b197fd0463b549",
   "outputs": [
    {
     "name": "stdout",
     "output_type": "stream",
     "text": [
      "Batch n. 0 / 33\n",
      "Batch n. 10 / 33\n",
      "Batch n. 20 / 33\n",
      "Batch n. 30 / 33\n",
      "Accuracy: 96.66%\n",
      "Confusion Matrix:\n"
     ]
    },
    {
     "data": {
      "text/plain": [
       "array([[ 972,    0,    1,    0,    0,    1,    2,    1,    3,    0],\n",
       "       [   0, 1121,    4,    2,    0,    1,    2,    1,    4,    0],\n",
       "       [  13,    2,  991,    5,    2,    0,    1,   13,    4,    1],\n",
       "       [   0,    0,   12,  966,    0,   12,    0,    8,   10,    2],\n",
       "       [   1,    1,    1,    0,  954,    0,    9,    1,    2,   13],\n",
       "       [   4,    1,    0,    9,    0,  866,    6,    2,    3,    1],\n",
       "       [  12,    3,    1,    0,    5,    4,  931,    0,    2,    0],\n",
       "       [   2,    5,   19,    2,    0,    0,    0,  992,    2,    6],\n",
       "       [   7,    2,    4,    2,    2,    4,    4,    6,  935,    8],\n",
       "       [   9,    6,    4,    7,   16,    6,    0,   12,   11,  938]])"
      ]
     },
     "execution_count": 39,
     "metadata": {},
     "output_type": "execute_result"
    }
   ],
   "execution_count": 39
  },
  {
   "metadata": {},
   "cell_type": "markdown",
   "source": [
    "# **Part 2: Pretrained CNN as a Feature Extractor**\n",
    "\n",
    "In this tutorial, you will learn how to use a convolutional neural network for image classification using transfer learning.\n",
    "\n",
    "In practice, very few people train an entire Convolutional Network from scratch (with random initialization), because it is relatively rare to have a dataset of sufficient size. Instead, it is common to pretrain a ConvNet on a very large dataset (e.g. ImageNet, which contains 1.2 million images with 1000 categories), and then use the ConvNet either as an initialization or a fixed feature extractor for the task of interest.\n",
    "\n",
    "In particular, in this tutorial we will load an AlexNet pretrained on the ImageNet database and use it as a feature extractor for the MNIST database."
   ],
   "id": "eacfcf1e2bcf9d08"
  },
  {
   "metadata": {},
   "cell_type": "code",
   "outputs": [],
   "execution_count": null,
   "source": "",
   "id": "c23d6a7c2f46facc"
  }
 ],
 "metadata": {
  "kernelspec": {
   "display_name": "Python 3",
   "language": "python",
   "name": "python3"
  },
  "language_info": {
   "codemirror_mode": {
    "name": "ipython",
    "version": 2
   },
   "file_extension": ".py",
   "mimetype": "text/x-python",
   "name": "python",
   "nbconvert_exporter": "python",
   "pygments_lexer": "ipython2",
   "version": "2.7.6"
  }
 },
 "nbformat": 4,
 "nbformat_minor": 5
}
