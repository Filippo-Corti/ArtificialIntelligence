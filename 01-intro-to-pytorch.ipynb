{
 "cells": [
  {
   "cell_type": "code",
   "id": "initial_id",
   "metadata": {
    "collapsed": true,
    "ExecuteTime": {
     "end_time": "2025-10-02T06:34:52.000467Z",
     "start_time": "2025-10-02T06:34:51.469727Z"
    }
   },
   "source": [
    "import numpy as np\n",
    "import matplotlib.pyplot as plt\n",
    "import torch\n",
    "import torch.optim as optim\n",
    "import torch.nn as nn\n",
    "\n",
    "seed = 42\n",
    "np.random.seed(seed)\n",
    "torch.manual_seed(seed)"
   ],
   "outputs": [],
   "execution_count": 14
  },
  {
   "metadata": {},
   "cell_type": "markdown",
   "source": "## Manual implementation of a Single-Variate Linear Regression",
   "id": "1a947b02fb01cc04"
  },
  {
   "metadata": {
    "ExecuteTime": {
     "end_time": "2025-10-02T06:27:45.732242Z",
     "start_time": "2025-10-02T06:27:45.725941Z"
    }
   },
   "cell_type": "code",
   "source": [
    "# y = a + bx + epsilon\n",
    "# a = 1, b = 2\n",
    "\n",
    "# Data Generation\n",
    "X = np.random.rand(100, 1)\n",
    "Y = 1 + 2 * X + .1 * np.random.randn(100, 1)\n",
    "\n",
    "# Split the dataset\n",
    "idxs = np.arange(100)\n",
    "np.random.shuffle(idxs)\n",
    "train_idx = idxs[:80] # 80-20 split\n",
    "val_idx = idxs[80:]\n",
    "\n",
    "X_train, Y_train = X[train_idx], Y[train_idx]\n",
    "X_val, Y_val = X[val_idx], Y[val_idx]"
   ],
   "id": "311b559e9453df5d",
   "outputs": [],
   "execution_count": 4
  },
  {
   "metadata": {
    "ExecuteTime": {
     "end_time": "2025-10-02T06:36:06.045363Z",
     "start_time": "2025-10-02T06:36:06.030087Z"
    }
   },
   "cell_type": "code",
   "source": [
    "# Training:\n",
    "\n",
    "# Random starting values\n",
    "a = np.random.randn(1)\n",
    "b = np.random.randn(1)\n",
    "\n",
    "lr = 1e-1 # Learning Rate\n",
    "epochs = 300 # Number of Epochs\n",
    "\n",
    "losses = list()\n",
    "\n",
    "for epoch in range(epochs): # Batch Learning\n",
    "    # Predicted output for all inputs\n",
    "    Y_hat = a + b * X_train\n",
    "\n",
    "    error = (Y_train - Y_hat)\n",
    "    loss = (error ** 2).mean()\n",
    "    losses.append(loss)\n",
    "\n",
    "    # Compute partial derivatives (by hand)\n",
    "    grad_a = -2 * error.mean()\n",
    "    grad_b = -2 * (X_train * error).mean()\n",
    "\n",
    "    # Update params by descending the gradients\n",
    "    a = a - lr * grad_a\n",
    "    b = b - lr * grad_b\n",
    "\n",
    "print(f\"Final params: a={a}, b={b}\")"
   ],
   "id": "66d3e71b8f5579e2",
   "outputs": [
    {
     "name": "stdout",
     "output_type": "stream",
     "text": [
      "Final params: a=[0.97147225], b=[2.06425174]\n"
     ]
    }
   ],
   "execution_count": 23
  },
  {
   "metadata": {
    "ExecuteTime": {
     "end_time": "2025-10-02T06:36:06.836024Z",
     "start_time": "2025-10-02T06:36:06.522680Z"
    }
   },
   "cell_type": "code",
   "source": [
    "plt.loglog(losses)\n",
    "plt.xlabel(\"Epoch\")\n",
    "plt.ylabel(\"Loss (MSE)\")\n",
    "plt.title(\"Training Loss over Epochs (log-log)\")\n",
    "plt.grid(True)\n",
    "plt.show()"
   ],
   "id": "c4e6717f8c4903fd",
   "outputs": [
    {
     "data": {
      "text/plain": [
       "<Figure size 640x480 with 1 Axes>"
      ],
      "image/png": "[encoded data removed]"
     },
     "metadata": {},
     "output_type": "display_data",
     "jetTransient": {
      "display_id": null
     }
    }
   ],
   "execution_count": 24
  },
  {
   "metadata": {},
   "cell_type": "markdown",
   "source": "## PyTorch implementation of Linear Regression",
   "id": "cc3aaf83e8271061"
  },
  {
   "metadata": {
    "ExecuteTime": {
     "end_time": "2025-10-02T06:39:26.507051Z",
     "start_time": "2025-10-02T06:39:26.405784Z"
    }
   },
   "cell_type": "code",
   "source": [
    "device = 'cuda' if torch.cuda_is_available() else 'cpu'\n",
    "\n",
    "# Convert into PyTorch Tensors\n",
    "X_train_tensor = torch.from_numpy(X_train).float().to(device)\n",
    "Y_train_tensor = torch.from_numpy(Y_train).float().to(device)\n",
    "\n",
    "print(type(X_train), type(X_train_tensor), X_train_tensor.type())"
   ],
   "id": "4a5c684d7cf15cc6",
   "outputs": [
    {
     "ename": "NameError",
     "evalue": "name 'torch' is not defined",
     "output_type": "error",
     "traceback": [
      "\u001B[31m---------------------------------------------------------------------------\u001B[39m",
      "\u001B[31mNameError\u001B[39m                                 Traceback (most recent call last)",
      "\u001B[36mCell\u001B[39m\u001B[36m \u001B[39m\u001B[32mIn[25]\u001B[39m\u001B[32m, line 1\u001B[39m\n\u001B[32m----> \u001B[39m\u001B[32m1\u001B[39m device = \u001B[33m'\u001B[39m\u001B[33mcuda\u001B[39m\u001B[33m'\u001B[39m \u001B[38;5;28;01mif\u001B[39;00m \u001B[43mtorch\u001B[49m.cuda_is_available() \u001B[38;5;28;01melse\u001B[39;00m \u001B[33m'\u001B[39m\u001B[33mcpu\u001B[39m\u001B[33m'\u001B[39m\n\u001B[32m      3\u001B[39m \u001B[38;5;66;03m# Convert into PyTorch Tensors\u001B[39;00m\n\u001B[32m      4\u001B[39m X_train_tensor = torch.from_numpy(X_train).float().to(device)\n",
      "\u001B[31mNameError\u001B[39m: name 'torch' is not defined"
     ]
    }
   ],
   "execution_count": 25
  },
  {
   "metadata": {},
   "cell_type": "code",
   "outputs": [],
   "execution_count": null,
   "source": [
    "# Training:\n",
    "\n",
    "# Random starting values (sent to device)\n",
    "a = torch.randn(1, requires_grad=True, dtype=torch.float, device=device)\n",
    "b = torch.randn(1, requires_grad=True, dtype=torch.float, device=device)\n",
    "\n",
    "lr = 1e-1 # Learning Rate\n",
    "epochs = 300 # Number of Epochs\n",
    "\n",
    "losses = list()\n",
    "\n",
    "# The Stochastic Gradient Descent Optimizer knows how to update a and b automatically\n",
    "optimizer = optim.SGD([a, b], lr=lr)\n",
    "\n",
    "# The Mean Squared Error Loss function knows how to compute the loss automatically\n",
    "loss_function = nn.MSELoss(reduction='mean')\n",
    "\n",
    "for epoch in range(epochs): # Batch Learning\n",
    "    # Predicted output for all inputs\n",
    "    Y_hat = a + b * X_train_tensor\n",
    "\n",
    "    loss = loss_function(Y_train_tensor, Y_hat)\n",
    "    losses.append(loss)\n",
    "\n",
    "    # Compute partial derivatives\n",
    "    loss.backwards()\n",
    "\n",
    "    # Update params (using the optimizer)\n",
    "    optimizer.step()\n",
    "\n",
    "    optimizer.zero_grad()\n",
    "\n",
    "print(f\"Final params: a={a}, b={b}\")"
   ],
   "id": "3593f11c349767d1"
  }
 ],
 "metadata": {
  "kernelspec": {
   "display_name": "Python 3",
   "language": "python",
   "name": "python3"
  },
  "language_info": {
   "codemirror_mode": {
    "name": "ipython",
    "version": 2
   },
   "file_extension": ".py",
   "mimetype": "text/x-python",
   "name": "python",
   "nbconvert_exporter": "python",
   "pygments_lexer": "ipython2",
   "version": "2.7.6"
  }
 },
 "nbformat": 4,
 "nbformat_minor": 5
}
