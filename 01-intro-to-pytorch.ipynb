{
 "cells": [
  {
   "cell_type": "code",
   "id": "initial_id",
   "metadata": {
    "collapsed": true,
    "ExecuteTime": {
     "end_time": "2025-10-02T07:56:34.057623Z",
     "start_time": "2025-10-02T07:56:34.048322Z"
    }
   },
   "source": [
    "import numpy as np\n",
    "import matplotlib.pyplot as plt\n",
    "import torch\n",
    "import torch.optim as optim\n",
    "import torch.nn as nn\n",
    "from torch.utils.data import DataLoader, TensorDataset\n",
    "from torch.utils.data.dataset import random_split\n",
    "\n",
    "seed = 42\n",
    "np.random.seed(seed)\n",
    "torch.manual_seed(seed)"
   ],
   "outputs": [
    {
     "data": {
      "text/plain": [
       "<torch._C.Generator at 0x7f298f5817b0>"
      ]
     },
     "execution_count": 56,
     "metadata": {},
     "output_type": "execute_result"
    }
   ],
   "execution_count": 56
  },
  {
   "metadata": {},
   "cell_type": "markdown",
   "source": [
    "# Training:\n",
    "\n",
    "lr = 1e-1 # Learning Rate\n",
    "epochs = 300 # Number of Epochs\n",
    "\n",
    "losses = list()\n",
    "\n",
    "# (1) The Module superclass allows for the definition of Models\n",
    "class ManualLinearRegression(nn.Module):\n",
    "    def __init__(self):\n",
    "        super().__init__()\n",
    "        # Random starting values (sent to device)\n",
    "        self.a = torch.randn(1, requires_grad=True, dtype=torch.float, device=device)\n",
    "        self.b = torch.randn(1, requires_grad=True, dtype=torch.float, device=device)\n",
    "\n",
    "    def forward(self, X):\n",
    "        return self.a * X + self.b\n",
    "\n",
    "model = ManualLinearRegression().to(device)\n",
    "\n",
    "# (2) The Mean Squared Error Loss function knows how to compute the loss automatically\n",
    "loss_function = nn.MSELoss(reduction='mean') # or 'sum'\n",
    "\n",
    "# (3) The Stochastic Gradient Descent Optimizer knows how to update a and b automatically\n",
    "optimizer = optim.SGD([a, b], lr=lr)\n",
    "\n",
    "\n",
    "for epoch in range(epochs): # Batch Learning\n",
    "    # Predicted output for all inputs\n",
    "    model.train() # Set to train mode\n",
    "    Y_hat = model(X_train_tensor)\n",
    "\n",
    "    # Compute the Loss\n",
    "    loss = loss_function(Y_train_tensor, Y_hat)\n",
    "    losses.append(loss)\n",
    "\n",
    "    # Compute partial derivatives (PyTorch's Autograd)\n",
    "    loss.backwards()\n",
    "\n",
    "    # Update params (using the optimizer)\n",
    "    optimizer.step()\n",
    "    optimizer.zero_grad() # This avoids misusage of old gradient values\n",
    "\n",
    "print(f\"Final params: a={a}, b={b}\")## Manual implementation of a Single-Variate Linear Regression"
   ],
   "id": "1a947b02fb01cc04"
  },
  {
   "metadata": {
    "ExecuteTime": {
     "end_time": "2025-10-02T07:58:26.038616Z",
     "start_time": "2025-10-02T07:58:26.029653Z"
    }
   },
   "cell_type": "code",
   "source": [
    "# y = a + bx + epsilon\n",
    "# a = 1, b = 2\n",
    "\n",
    "# Data Generation\n",
    "X = np.random.rand(100, 1)\n",
    "Y = 1 + 2 * X + .1 * np.random.randn(100, 1)\n",
    "\n",
    "# Split the dataset\n",
    "idxs = np.arange(100)\n",
    "np.random.shuffle(idxs)\n",
    "train_idx = idxs[:80] # 80-20 split\n",
    "val_idx = idxs[80:]\n",
    "\n",
    "X_train, Y_train = X[train_idx], Y[train_idx]\n",
    "X_val, Y_val = X[val_idx], Y[val_idx]"
   ],
   "id": "311b559e9453df5d",
   "outputs": [],
   "execution_count": 63
  },
  {
   "metadata": {
    "ExecuteTime": {
     "end_time": "2025-10-02T07:37:42.489140Z",
     "start_time": "2025-10-02T07:37:42.473464Z"
    }
   },
   "cell_type": "code",
   "source": [
    "# Training:\n",
    "\n",
    "# Random starting values\n",
    "a = np.random.randn(1)\n",
    "b = np.random.randn(1)\n",
    "\n",
    "lr = 1e-1 # Learning Rate\n",
    "epochs = 300 # Number of Epochs\n",
    "\n",
    "losses = list()\n",
    "\n",
    "for epoch in range(epochs): # Batch Learning\n",
    "    # Predicted output for all inputs\n",
    "    Y_hat = a + b * X_train\n",
    "\n",
    "    error = (Y_train - Y_hat)\n",
    "    loss = (error ** 2).mean()\n",
    "    losses.append(loss)\n",
    "\n",
    "    # Compute partial derivatives (by hand)\n",
    "    grad_a = -2 * error.mean()\n",
    "    grad_b = -2 * (X_train * error).mean()\n",
    "\n",
    "    # Update params by descending the gradients\n",
    "    a = a - lr * grad_a\n",
    "    b = b - lr * grad_b\n",
    "\n",
    "print(f\"Final params: a={a}, b={b}\")"
   ],
   "id": "66d3e71b8f5579e2",
   "outputs": [
    {
     "name": "stdout",
     "output_type": "stream",
     "text": [
      "Final params: a=[1.02448592], b=[1.96711505]\n"
     ]
    }
   ],
   "execution_count": 28
  },
  {
   "metadata": {
    "ExecuteTime": {
     "end_time": "2025-10-02T07:37:43.440577Z",
     "start_time": "2025-10-02T07:37:43.239630Z"
    }
   },
   "cell_type": "code",
   "source": [
    "plt.loglog(losses)\n",
    "plt.xlabel(\"Epoch\")\n",
    "plt.ylabel(\"Loss (MSE)\")\n",
    "plt.title(\"Training Loss over Epochs (log-log)\")\n",
    "plt.grid(True)\n",
    "plt.show()"
   ],
   "id": "c4e6717f8c4903fd",
   "outputs": [
    {
     "data": {
      "text/plain": [
       "<Figure size 640x480 with 1 Axes>"
      ],
      "image/png": "[encoded data removed]"
     },
     "metadata": {},
     "output_type": "display_data",
     "jetTransient": {
      "display_id": null
     }
    }
   ],
   "execution_count": 29
  },
  {
   "metadata": {},
   "cell_type": "markdown",
   "source": "## PyTorch implementation of Linear Regression",
   "id": "cc3aaf83e8271061"
  },
  {
   "metadata": {
    "ExecuteTime": {
     "end_time": "2025-10-02T07:59:21.044305Z",
     "start_time": "2025-10-02T07:59:21.041453Z"
    }
   },
   "cell_type": "code",
   "source": [
    "device = 'cuda' if torch.cuda.is_available() else 'cpu'\n",
    "\n",
    "# Convert into PyTorch Tensors (as of now, the tensors are in the RAM)\n",
    "X_tensor = torch.from_numpy(X).float()\n",
    "Y_tensor = torch.from_numpy(Y).float()"
   ],
   "id": "4a5c684d7cf15cc6",
   "outputs": [],
   "execution_count": 67
  },
  {
   "metadata": {
    "ExecuteTime": {
     "end_time": "2025-10-02T07:59:29.236795Z",
     "start_time": "2025-10-02T07:59:29.233907Z"
    }
   },
   "cell_type": "code",
   "source": [
    "# Build the Dataset\n",
    "\n",
    "dataset = TensorDataset(X_tensor, Y_tensor)\n",
    "\n",
    "train_dataset, val_dataset = random_split(dataset, [80, 20])\n",
    "\n",
    "train_loader = DataLoader(\n",
    "    dataset=train_dataset,\n",
    "    batch_size=16, # We do Mini-Batch this time\n",
    ")\n",
    "\n",
    "val_loader = DataLoader(\n",
    "    dataset=val_dataset,\n",
    "    batch_size=20, # (Full) Batch for the small validation set\n",
    ")"
   ],
   "id": "38ae54387d46f139",
   "outputs": [],
   "execution_count": 68
  },
  {
   "metadata": {
    "ExecuteTime": {
     "end_time": "2025-10-02T08:08:02.897749Z",
     "start_time": "2025-10-02T08:08:02.854632Z"
    }
   },
   "cell_type": "code",
   "source": [
    "# Training:\n",
    "\n",
    "lr = 1e-1 # Learning Rate\n",
    "epochs = 5 # Number of Epochs\n",
    "\n",
    "train_losses = list()\n",
    "val_losses = list()\n",
    "\n",
    "# (1) The Module superclass allows for the definition of Models\n",
    "class ManualLinearRegression(nn.Module):\n",
    "    def __init__(self):\n",
    "        super().__init__()\n",
    "        # Random starting values (sent to device)\n",
    "        self.a = nn.Parameter(torch.randn(1, requires_grad=True, dtype=torch.float))\n",
    "        self.b = nn.Parameter(torch.randn(1, requires_grad=True, dtype=torch.float))\n",
    "\n",
    "    def forward(self, X):\n",
    "        return self.a + self.b * X\n",
    "\n",
    "class LayerLinearRegression(nn.Module):\n",
    "    def __init__(self):\n",
    "        super().__init__()\n",
    "        # Use a Linear Layer with 1 input and 1 output\n",
    "        self.linear = nn.Linear(in_features=1, out_features=1, bias=True)\n",
    "\n",
    "    def forward(self, X):\n",
    "        return self.linear(X)\n",
    "\n",
    "model = LayerLinearRegression().to(device)\n",
    "\n",
    "# (2) The Mean Squared Error Loss function knows how to compute the loss automatically\n",
    "loss_function = nn.MSELoss(reduction='mean') # or 'sum'\n",
    "\n",
    "# (3) The Stochastic Gradient Descent Optimizer knows how to update a and b automatically\n",
    "optimizer = optim.SGD(model.parameters(), lr=lr)\n",
    "\n",
    "\n",
    "for epoch in range(epochs): # Mini-Batch Learning (thanks to TensorDataset)\n",
    "    for X_batch, Y_batch in train_loader:\n",
    "        # Only the mini-batch is transferred to the GPU\n",
    "        X_batch = X_batch.to(device)\n",
    "        Y_batch = Y_batch.to(device)\n",
    "\n",
    "        model.train() # Set to train mode\n",
    "        Y_hat = model(X_batch)\n",
    "\n",
    "        # Compute the Loss\n",
    "        loss = loss_function(Y_batch, Y_hat)\n",
    "        train_losses.append(loss.item())\n",
    "\n",
    "        # Compute partial derivatives (PyTorch's Autograd)\n",
    "        loss.backward()\n",
    "\n",
    "        # Update params (using the optimizer)\n",
    "        optimizer.step()\n",
    "        optimizer.zero_grad() # This avoids misusage of old gradient values\n",
    "\n",
    "        # We can do Evaluation in the inner Loop\n",
    "        for X_val, Y_val in val_loader:\n",
    "            x_val = X_val.to(device)\n",
    "            y_val = Y_val.to(device)\n",
    "            model.eval()\n",
    "            Y_hat = model(x_val)\n",
    "            loss = loss_function(y_val, Y_hat)\n",
    "            val_losses.append(loss.item())\n",
    "\n",
    "print(f\"Final params: a={a}, b={b}\")"
   ],
   "id": "3593f11c349767d1",
   "outputs": [
    {
     "name": "stdout",
     "output_type": "stream",
     "text": [
      "Final params: a=[1.02448592], b=[1.96711505]\n"
     ]
    }
   ],
   "execution_count": 87
  },
  {
   "metadata": {
    "ExecuteTime": {
     "end_time": "2025-10-02T08:08:14.214660Z",
     "start_time": "2025-10-02T08:08:14.136636Z"
    }
   },
   "cell_type": "code",
   "source": [
    "plt.plot(train_losses, label=\"Training Loss\")\n",
    "plt.plot(val_losses, label=\"Validation Loss\")\n",
    "plt.xlabel(\"\")\n",
    "plt.ylabel(\"Loss (MSE)\")\n",
    "plt.title(\"Losses\")\n",
    "plt.grid(True)\n",
    "plt.legend()\n",
    "plt.show()"
   ],
   "id": "d4c34b614bd219a5",
   "outputs": [
    {
     "data": {
      "text/plain": [
       "<Figure size 640x480 with 1 Axes>"
      ],
      "image/png": "[encoded data removed]"
     },
     "metadata": {},
     "output_type": "display_data",
     "jetTransient": {
      "display_id": null
     }
    }
   ],
   "execution_count": 89
  },
  {
   "metadata": {},
   "cell_type": "code",
   "outputs": [],
   "execution_count": null,
   "source": "",
   "id": "899366a724060215"
  }
 ],
 "metadata": {
  "kernelspec": {
   "display_name": "Python 3",
   "language": "python",
   "name": "python3"
  },
  "language_info": {
   "codemirror_mode": {
    "name": "ipython",
    "version": 2
   },
   "file_extension": ".py",
   "mimetype": "text/x-python",
   "name": "python",
   "nbconvert_exporter": "python",
   "pygments_lexer": "ipython2",
   "version": "2.7.6"
  }
 },
 "nbformat": 4,
 "nbformat_minor": 5
}
