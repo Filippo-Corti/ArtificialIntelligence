{
 "cells": [
  {
   "metadata": {},
   "cell_type": "markdown",
   "source": "# Self-Organizing Maps (SOMs)",
   "id": "d84e8e80d4010728"
  },
  {
   "metadata": {
    "collapsed": true,
    "ExecuteTime": {
     "end_time": "2025-10-08T13:39:03.042973Z",
     "start_time": "2025-10-08T13:39:00.492244Z"
    }
   },
   "cell_type": "code",
   "source": [
    "import numpy as np\n",
    "import torch\n",
    "import torch.nn as nn\n",
    "from torch.autograd import Variable\n",
    "import matplotlib.pyplot as plt"
   ],
   "id": "b1c4c5107395c9d0",
   "outputs": [],
   "execution_count": 1
  },
  {
   "metadata": {
    "ExecuteTime": {
     "end_time": "2025-10-08T13:44:23.027521Z",
     "start_time": "2025-10-08T13:44:23.003913Z"
    }
   },
   "cell_type": "code",
   "source": [
    "# We need to define a custom Model\n",
    "\n",
    "class SOM(nn.Module):\n",
    "    \"\"\"\n",
    "    2-D Self-Organizing Map with Gaussian Neighbourhood function\n",
    "    and linearly decreasing learning rate.\n",
    "    \"\"\"\n",
    "\n",
    "    def __init__(self, m, n, dim, niter, alpha=None, sigma=None):\n",
    "        super(SOM, self).__init__()\n",
    "\n",
    "        self.m = m\n",
    "        self.n = n\n",
    "        self.dim = dim\n",
    "        self.niter = niter\n",
    "\n",
    "        if alpha is None:\n",
    "            self.alpha = 0.3\n",
    "        else:\n",
    "            self.alpha = float(alpha)\n",
    "\n",
    "        if sigma is None:\n",
    "            self.sigma = max(m, n) / 2.0\n",
    "        else:\n",
    "            self.sigma = float(sigma)\n",
    "\n",
    "        self.weights = torch.randn(m * n, dim)\n",
    "        self.locations = torch.LongTensor(np.array(list(self.neuron_locations())))\n",
    "        self.pdist = nn.PairwiseDistance(p=2)\n",
    "\n",
    "    def get_weights(self):\n",
    "        return self.weights\n",
    "\n",
    "    def get_locations(self):\n",
    "        return self.locations\n",
    "\n",
    "    def neuron_locations(self):\n",
    "        for i in range(self.m):\n",
    "            for j in range(self.n):\n",
    "                yield np.array([i, j])\n",
    "\n",
    "    def map_vects(self, input_vects):\n",
    "        to_return = []\n",
    "        for vect in input_vects:\n",
    "            min_index = min([i for i in range(len(self.weights))],\n",
    "                            key=lambda x: np.linalg.norm(vect - self.weights[x]))\n",
    "            to_return.append(self.locations[min_index])\n",
    "\n",
    "        return to_return\n",
    "\n",
    "    def forward(self, x, it):\n",
    "        dists = self.pdist(torch.stack([x for i in range(self.m * self.n)]), self.weights)\n",
    "        _, bmu_index = torch.min(dists, 0)  # The \"Winner Neuron\"\n",
    "        bmu_loc = self.locations[bmu_index, :]\n",
    "        bmu_loc = bmu_loc.squeeze()\n",
    "\n",
    "        learning_rate_op = 1.0 - it / self.niter\n",
    "        alpha_op = self.alpha * learning_rate_op\n",
    "        sigma_op = self.sigma * learning_rate_op\n",
    "\n",
    "        bmu_distance_squares = torch.sum(\n",
    "            torch.pow(self.locations.float() - torch.stack([bmu_loc for i in range(self.m * self.n)]).float(), 2), 1)\n",
    "\n",
    "        neighbourhood_func = torch.exp(torch.neg(torch.div(bmu_distance_squares, sigma_op ** 2)))\n",
    "\n",
    "        learning_rate_op = alpha_op * neighbourhood_func\n",
    "\n",
    "        learning_rate_multiplier = torch.stack(\n",
    "            [learning_rate_op[i:i + 1].repeat(self.dim) for i in range(self.m * self.n)])\n",
    "        delta = torch.mul(learning_rate_multiplier, (torch.stack([x for i in range(self.m * self.n)]) - self.weights))\n",
    "        new_weights = torch.add(self.weights, delta)\n",
    "        self.weights = new_weights"
   ],
   "id": "e04d3d3bad8e5b39",
   "outputs": [],
   "execution_count": 8
  },
  {
   "metadata": {
    "ExecuteTime": {
     "end_time": "2025-10-08T13:45:34.867716Z",
     "start_time": "2025-10-08T13:45:34.860161Z"
    }
   },
   "cell_type": "code",
   "source": [
    "m = 20\n",
    "n = 30\n",
    "\n",
    "#Training inputs for RGBcolors\n",
    "colors = np.array([\n",
    "    [0., 0., 0.],\n",
    "    [0., 0., 1.],\n",
    "    [0., 0., 0.5],\n",
    "    [0.125, 0.529, 1.0],\n",
    "    [0.33, 0.4, 0.67],\n",
    "    [0.6, 0.5, 1.0],\n",
    "    [0., 1., 0.],\n",
    "    [1., 0., 0.],\n",
    "    [0., 1., 1.],\n",
    "    [1., 0., 1.],\n",
    "    [1., 1., 0.],\n",
    "    [1., 1., 1.],\n",
    "    [.33, .33, .33],\n",
    "    [.5, .5, .5],\n",
    "    [.66, .66, .66]\n",
    "])\n",
    "\n",
    "color_names = \\\n",
    "    ['black', 'blue', 'darkblue', 'skyblue',\n",
    "     'greyblue', 'lilac', 'green', 'red',\n",
    "     'cyan', 'violet', 'yellow', 'white',\n",
    "     'darkgrey', 'mediumgrey', 'lightgrey']"
   ],
   "id": "c8b6d54325254e19",
   "outputs": [],
   "execution_count": 13
  },
  {
   "metadata": {
    "ExecuteTime": {
     "end_time": "2025-10-08T13:45:50.249257Z",
     "start_time": "2025-10-08T13:45:35.371753Z"
    }
   },
   "cell_type": "code",
   "source": [
    "# We want to map the points in a 2D representation so that similar colors are close\n",
    "\n",
    "data = list()\n",
    "for i in range(colors.shape[0]):\n",
    "    data.append(torch.FloatTensor(colors[i,:]))\n",
    "\n",
    "#Train a 20x30 SOM with 200 iterations\n",
    "n_iter = 200\n",
    "som = SOM(m, n, 3, n_iter)\n",
    "for iter_no in range(n_iter):\n",
    "    #Train with each vector one by one\n",
    "    for i in range(len(data)):\n",
    "        som(data[i], iter_no)"
   ],
   "id": "9af3210d39845c2a",
   "outputs": [],
   "execution_count": 14
  },
  {
   "metadata": {
    "ExecuteTime": {
     "end_time": "2025-10-08T13:45:50.598777Z",
     "start_time": "2025-10-08T13:45:50.310727Z"
    }
   },
   "cell_type": "code",
   "source": [
    "#Store a centroid grid for easy retrieval later on\n",
    "centroid_grid = [[] for i in range(m)]\n",
    "weights = som.get_weights()\n",
    "locations = som.get_locations()\n",
    "for i, loc in enumerate(locations):\n",
    "    centroid_grid[loc[0]].append(weights[i].numpy())\n",
    "\n",
    "#Get output grid\n",
    "image_grid = centroid_grid\n",
    "\n",
    "#Map colours to their closest neurons\n",
    "mapped = som.map_vects(torch.Tensor(colors))\n",
    "\n",
    "#Plot\n",
    "plt.imshow(image_grid)\n",
    "plt.title('Color SOM')\n",
    "for i, m in enumerate(mapped):\n",
    "    plt.text(m[1], m[0], color_names[i], ha='center', va='center',\n",
    "             bbox=dict(facecolor='white', alpha=0.5, lw=0))\n",
    "plt.show()\n",
    "\n",
    "# Notice that the labels are the original 15 points of the dataset"
   ],
   "id": "3f39a253534e5aa0",
   "outputs": [
    {
     "data": {
      "text/plain": [
       "<Figure size 640x480 with 1 Axes>"
      ],
      "image/png": "[encoded data removed]"
     },
     "metadata": {},
     "output_type": "display_data",
     "jetTransient": {
      "display_id": null
     }
    }
   ],
   "execution_count": 15
  },
  {
   "metadata": {},
   "cell_type": "code",
   "outputs": [],
   "execution_count": null,
   "source": "",
   "id": "e4ecb6cd3108a884"
  }
 ],
 "metadata": {
  "kernelspec": {
   "display_name": "Python 3",
   "language": "python",
   "name": "python3"
  },
  "language_info": {
   "codemirror_mode": {
    "name": "ipython",
    "version": 2
   },
   "file_extension": ".py",
   "mimetype": "text/x-python",
   "name": "python",
   "nbconvert_exporter": "python",
   "pygments_lexer": "ipython2",
   "version": "2.7.6"
  }
 },
 "nbformat": 4,
 "nbformat_minor": 5
}
